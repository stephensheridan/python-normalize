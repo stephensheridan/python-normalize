{
 "cells": [
  {
   "cell_type": "code",
   "execution_count": 21,
   "id": "1f98251e",
   "metadata": {},
   "outputs": [],
   "source": [
    "import numpy as np"
   ]
  },
  {
   "cell_type": "code",
   "execution_count": 32,
   "id": "01333998",
   "metadata": {},
   "outputs": [],
   "source": [
    "def Normalize(data):\n",
    "    return (data - np.min(data)) / (np.max(data) - np.min(data))"
   ]
  },
  {
   "cell_type": "code",
   "execution_count": 33,
   "id": "0f0beaaa",
   "metadata": {},
   "outputs": [],
   "source": [
    "# Create some data\n",
    "x_array = np.array([2,3,5,6,7,4,8,7,6, 1000])"
   ]
  },
  {
   "cell_type": "code",
   "execution_count": 34,
   "id": "1faa83b2",
   "metadata": {},
   "outputs": [
    {
     "name": "stdout",
     "output_type": "stream",
     "text": [
      "Raw data\n",
      "[   2    3    5    6    7    4    8    7    6 1000]\n"
     ]
    }
   ],
   "source": [
    "# Raw data\n",
    "print(\"Raw data\")\n",
    "print(x_array)"
   ]
  },
  {
   "cell_type": "code",
   "execution_count": 35,
   "id": "8a7c9c6b",
   "metadata": {},
   "outputs": [
    {
     "name": "stdout",
     "output_type": "stream",
     "text": [
      "Normalized data\n",
      "[0.         0.001002   0.00300601 0.00400802 0.00501002 0.00200401\n",
      " 0.00601202 0.00501002 0.00400802 1.        ]\n"
     ]
    }
   ],
   "source": [
    "# Normalized data\n",
    "norm_array = Normalize(x_array)\n",
    "print(\"Normalized data\")\n",
    "print(norm_array)"
   ]
  }
 ],
 "metadata": {
  "kernelspec": {
   "display_name": "Python 3 (ipykernel)",
   "language": "python",
   "name": "python3"
  },
  "language_info": {
   "codemirror_mode": {
    "name": "ipython",
    "version": 3
   },
   "file_extension": ".py",
   "mimetype": "text/x-python",
   "name": "python",
   "nbconvert_exporter": "python",
   "pygments_lexer": "ipython3",
   "version": "3.8.3"
  }
 },
 "nbformat": 4,
 "nbformat_minor": 5
}
